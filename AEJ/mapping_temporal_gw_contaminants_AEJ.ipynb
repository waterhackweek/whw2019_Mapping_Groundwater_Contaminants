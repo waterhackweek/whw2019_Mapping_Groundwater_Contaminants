{
 "cells": [
  {
   "cell_type": "markdown",
   "metadata": {},
   "source": [
    "\n",
    "# Mapping Groundwater Contaminants of California\n",
    "\n",
    "Potential goals of this notebook:\n",
    "1. Clean the dataset into a workable dataframe\n",
    "2. Spatially plot the data using geopandas, or cartopy\n",
    "3. ...\n",
    "\n",
    "## 1. Reorganizing the data\n",
    "\n",
    "This first section will deal with cleaning and reorganizing the data. \n",
    "\n",
    "(The `%matplotlib inline` syntax prints out the figures that are created after each specific call.)"
   ]
  },
  {
   "cell_type": "code",
   "execution_count": 1,
   "metadata": {},
   "outputs": [],
   "source": [
    "%matplotlib inline\n",
    "from matplotlib import pyplot as plt\n",
    "\n",
    "## Imports\n",
    "import pandas as pd\n",
    "import numpy as np\n",
    "import os\n",
    "pd.set_option('display.max_columns', 500)\n",
    "\n",
    "## Set the data's directory path\n",
    "script_dir = os.path.abspath('')\n",
    "data_dir   = os.path.join( os.path.split(os.path.split(script_dir)[0])[0], # shared path\n",
    "                           'whw2019_CA_data\\\\whw2019_NWQData' )"
   ]
  },
  {
   "cell_type": "markdown",
   "metadata": {},
   "source": [
    "The data we are using for this analysis are from a collaboration between the United States Geological Survey ([USGS](https://www.usgs.gov/)), the Environmental Protection Agency([EPA](https://www.epa.gov/)), United States Department of Agriculture Agricultural Reaseach Service ([USDA ARS](https://www.ars.usda.gov/)), and the National Water Quality Monitoring Council ([NWQMC](https://acwi.gov/monitoring/)). The groundwater quality data was aggragated and downloaded from the [Water Quality Portal](https://www.waterqualitydata.us/coverage/). \n",
    "\n",
    "The reported data sources are:\n",
    "* National Water Information System ([NWIS](https://waterdata.usgs.gov/nwis)) - USGS\n",
    "* STOrage and RETrieval ([STORET](https://www.epa.gov/waterdata/water-quality-data-wqx)) Data Warehouse - EPA\n",
    "* Sustaining The Earth's Watersheds - Agricultural Research Database System ([STEWARDS]())\n",
    "\n",
    "For now the state/region of interest is California (CA). However, we hope to be able to apply similar analyses to other states around the US, or to other countries (e.g., India) should adequate spatial (X,Y,Z) and temporal data resolution be available.\n",
    "\n",
    "To read in the datafiles, we must make the proper call toward their storage location (on Hydroshare). The following `pd.read_csv` commands may present with some warnings after running. In this instance, the warnings are fine to ignore (however, always be mindful of the coding issues). \n"
   ]
  },
  {
   "cell_type": "code",
   "execution_count": 2,
   "metadata": {},
   "outputs": [
    {
     "name": "stderr",
     "output_type": "stream",
     "text": [
      "C:\\Users\\allan\\Anaconda3\\lib\\site-packages\\IPython\\core\\interactiveshell.py:3020: DtypeWarning: Columns (9,10,11,12,13,14,16,18,19,23,33,37,39,42,47,57,59,61) have mixed types. Specify dtype option on import or set low_memory=False.\n",
      "  interactivity=interactivity, compiler=compiler, result=result)\n",
      "C:\\Users\\allan\\Anaconda3\\lib\\site-packages\\IPython\\core\\interactiveshell.py:3020: DtypeWarning: Columns (5) have mixed types. Specify dtype option on import or set low_memory=False.\n",
      "  interactivity=interactivity, compiler=compiler, result=result)\n"
     ]
    }
   ],
   "source": [
    "# Enter state code in 'state' variable to read in that states data results.\n",
    "state = 'CA'\n",
    "results  = pd.read_csv(r'{}\\\\{}_result.csv'.format(data_dir, state))\n",
    "stations = pd.read_csv(r'{}\\\\{}_station.csv'.format(data_dir, state))"
   ]
  },
  {
   "cell_type": "code",
   "execution_count": 3,
   "metadata": {},
   "outputs": [],
   "source": [
    "results.drop(columns=['OrganizationIdentifier', \n",
    "                      'OrganizationFormalName',\n",
    "                      'ActivityIdentifier', \n",
    "                      'ActivityTypeCode', \n",
    "                      'ActivityMediaName',\n",
    "                      'ActivityMediaSubdivisionName',\n",
    "                      'ResultStatusIdentifier', \n",
    "                      'StatisticalBaseCode', \n",
    "                      'ResultValueTypeName',\n",
    "                      'ResultWeightBasisText', \n",
    "                      'ResultTimeBasisText',\n",
    "                      'ResultTemperatureBasisText',\n",
    "                      'ResultParticleSizeBasisText',\n",
    "                      'PrecisionValue', \n",
    "                      'ResultCommentText',\n",
    "                      'USGSPCode',\n",
    "                      'ResultDepthHeightMeasure/MeasureValue',\n",
    "                      'ResultDepthHeightMeasure/MeasureUnitCode',\n",
    "                      'ResultDepthAltitudeReferencePointText', \n",
    "                      'SubjectTaxonomicName',\n",
    "                      'SampleTissueAnatomyName',\n",
    "                      'ResultAnalyticalMethod/MethodIdentifier',\n",
    "                      'ResultAnalyticalMethod/MethodIdentifierContext',\n",
    "                      'ResultAnalyticalMethod/MethodName', \n",
    "                      'MethodDescriptionText',\n",
    "                      'LaboratoryName',\n",
    "                      'AnalysisStartDate', \n",
    "                      'ResultLaboratoryCommentText',\n",
    "                      'DetectionQuantitationLimitTypeName',\n",
    "                      'DetectionQuantitationLimitMeasure/MeasureValue',\n",
    "                      'DetectionQuantitationLimitMeasure/MeasureUnitCode',\n",
    "                      'PreparationStartDate', \n",
    "                      'ProviderName',\n",
    "                      'ProjectIdentifier',\n",
    "                      'ActivityConductingOrganizationText',\n",
    "                      'ActivityCommentText',\n",
    "                      'MeasureQualifierCode', \n",
    "                      'SampleCollectionMethod/MethodIdentifier',\n",
    "                      'SampleCollectionMethod/MethodIdentifierContext',\n",
    "                      'SampleCollectionMethod/MethodName',\n",
    "                      'SampleCollectionEquipmentName',\n",
    "                      'ResultDetectionConditionText'\n",
    "                     ], inplace=True)\n",
    "\n",
    "# # preview the data\n",
    "# results.head()\n",
    "# stations.head()"
   ]
  },
  {
   "cell_type": "markdown",
   "metadata": {},
   "source": [
    "After uploading/reading the .csv file as a `Pands` dataframe, we dropped unnecessary column values (above). The next step is to merge the two data frames `results` and `stations` by the station identifier to obtain a unified dataframe.\n",
    "\n",
    "We have reset the \"headers\" of the rows to be the 'MonitoringLocationIdentifier' for each station. The new variable `mwd` stands for \"merged well dataframe\".\n",
    "\n",
    "The bounding box for Califonia was obtained [here](https://gist.github.com/jakebathman/719e8416191ba14bb6e700fc2d5fccc5)."
   ]
  },
  {
   "cell_type": "code",
   "execution_count": 4,
   "metadata": {},
   "outputs": [],
   "source": [
    "# california bounding box information\n",
    "ca_max_lon = -114.1315\n",
    "ca_min_lon = -124.6509\n",
    "ca_max_lat = 42.0126\n",
    "ca_min_lat = 32.5121\n",
    "\n",
    "# creat boolean conditional statements\n",
    "lon_condition = (ca_min_lon <= stations['LongitudeMeasure']) & (stations['LongitudeMeasure'] <= ca_max_lon)\n",
    "lat_condition = (ca_min_lat <= stations['LatitudeMeasure']) & (stations['LatitudeMeasure'] <= ca_max_lat)"
   ]
  },
  {
   "cell_type": "code",
   "execution_count": null,
   "metadata": {},
   "outputs": [],
   "source": [
    "# Check for removal of inaccurate points\n",
    "# stations.shape\n",
    "\n",
    "# clean the data to drop stations outside the bounding box of California\n",
    "stations = stations.loc[ (lat_condition & lon_condition) ,:]\n",
    "\n",
    "# Check for removal of inaccurate points\n",
    "# stations.shape"
   ]
  },
  {
   "cell_type": "code",
   "execution_count": null,
   "metadata": {},
   "outputs": [],
   "source": [
    "mwd = stations.merge( results, on='MonitoringLocationIdentifier' )\n",
    "# mwd = mwd.set_index( 'MonitoringLocationIdentifier' )"
   ]
  },
  {
   "cell_type": "markdown",
   "metadata": {},
   "source": [
    "Now that we have a `Pandas` dataframe, I want to convert the dataframe to a geopandas dataframe.\n",
    "\n",
    "If this is your first time using `GeoPandas`, you may need to install `GeoPandas`. The simplest way to do this is to use your `anaconda prompt` to call on a miniconda installation to download `GeoPandas` from `conda-forge`.\n",
    "\n",
    "Essentially, enter the following into your `anaconda prompt` command shell:\n",
    "`conda install -c conda-forge geopandas`\n",
    "\n",
    "The installation make take a minute. Be patient - go grab coffee or something."
   ]
  },
  {
   "cell_type": "code",
   "execution_count": null,
   "metadata": {},
   "outputs": [],
   "source": [
    "# import geopandas\n",
    "import geopandas as gpd\n",
    "from shapely.geometry import Point\n",
    "\n",
    "# Convert the DataFrame's Lat/Long coordinates into the appropriate shapely geometries\n",
    "gpdgeom = [Point(xy) for xy in zip(mwd.LongitudeMeasure, mwd.LatitudeMeasure)]\n",
    "\n",
    "# convert the dataframe to a geopandas dataframe\n",
    "crs = {'init': 'epsg:4326'} # coordinate reference system -> 4326 - web mercator projection\n",
    "# could also choose to be in UTM for CA?\n",
    "mwgd = gpd.GeoDataFrame(mwd, crs=crs, geometry=gpdgeom)"
   ]
  },
  {
   "cell_type": "markdown",
   "metadata": {},
   "source": [
    "Now that we have a `GeoPandas` geodataframe, we can begin to spatially plot the data over a map of California (or our area of interest).\n",
    "\n",
    "However, the first step in the process will be to subset the data before plotting.\n",
    "\n",
    "* Date - 'ActivityStartDate'\n",
    "* Sample value - 'ResultMeasureValue'\n",
    "\n",
    "Look into 'tidy data'."
   ]
  },
  {
   "cell_type": "code",
   "execution_count": null,
   "metadata": {},
   "outputs": [],
   "source": [
    "from datetime import datetime\n",
    "\n",
    "# create a column of datetime variables\n",
    "mwgd['ActivityStartDate'] = pd.to_datetime( mwgd['ActivityStartDate'] )\n"
   ]
  },
  {
   "cell_type": "markdown",
   "metadata": {},
   "source": [
    "## Need to add a functionality that converts concentrations to proper units\n",
    "\n",
    "When using chemicals/contaminants/characteristics other than Arsenic.\n"
   ]
  },
  {
   "cell_type": "code",
   "execution_count": null,
   "metadata": {},
   "outputs": [],
   "source": [
    "# add row of values scaling As by the MCL\n",
    "def determine_MCL( chemical ):\n",
    "    if chemical == 'Arsenic':\n",
    "        MCL_value = 0.010\n",
    "    elif chemical == 'Nitrate':\n",
    "        MCL_value = 45\n",
    "    elif chemical == 'Chromium':\n",
    "        MCL_value = 0.05\n",
    "    elif chemical == 'Uranium':\n",
    "        MCL_value = 0.030\n",
    "    elif chemical == 'Selenium':\n",
    "        MCL_value = 0.050\n",
    "    elif chemical == 'Flouride':\n",
    "        MCL_value = 2.0\n",
    "    elif chemical == 'Total Dissolved Solids':\n",
    "        MCL_value = 500\n",
    "    elif chemical == 'Manganese':\n",
    "        MCL_value = 0.05\n",
    "    elif chemical == 'Iron':\n",
    "        MCL_value = 0.3\n",
    "    elif chemical == '0.15':\n",
    "        MCL_value = 0.015\n",
    "    return MCL_value\n",
    "\n",
    "# above function returns the given MCL for the contaminant in mg/L\n",
    "\n",
    "# ***** # building function to convert concentration data\n",
    "# def convert_concentration( value_zip ):\n",
    "#     for value, units in value_zip:\n",
    "#         if 'mg' not in units:\n",
    "#             if 'ug' in units: # micro-grams\n",
    "#                 value = value/1e3\n",
    "#     return value\n"
   ]
  },
  {
   "cell_type": "markdown",
   "metadata": {},
   "source": [
    "## Figure Goal 3. \n",
    "\n",
    "Make a figure with two rows of subplots to show the temporal variability of concentrations in the Central Valley Aquifer System throughout the CA drought form 2011-2017. The figures will depict 2010-2018.\n",
    "\n",
    "We will build a function to automate the process of subsetting the data.\n"
   ]
  },
  {
   "cell_type": "code",
   "execution_count": null,
   "metadata": {},
   "outputs": [],
   "source": [
    "# this a function to autmoate the data subsetting process\n",
    "def subset_data(dataset,\n",
    "                year_of_int=2015,\n",
    "                aquifer_of_int='Central Valley aquifer system', \n",
    "                chem_of_int='Arsenic'):\n",
    "    \n",
    "    # obtain all the samples during the year specified\n",
    "    annual_cond = ( (dataset['ActivityStartDate'] > datetime(year_of_int-1,12,31)) &\n",
    "                    (dataset['ActivityStartDate'] < datetime(year_of_int+1, 1, 1)) )\n",
    "    annual_subset = mwgd.loc[ annual_cond, : ]\n",
    "    \n",
    "    # select a particular aquifer\n",
    "    aqui_ann_subset = annual_subset.loc[ annual_subset['AquiferName'] == aquifer_of_int, :]\n",
    "\n",
    "    # obtain all chemical rows\n",
    "    MCL_value = determine_MCL( chem_of_int )\n",
    "    chem_cond = aqui_ann_subset['CharacteristicName']  == chem_of_int\n",
    "    chem_aqui_ann_subset = aqui_ann_subset.loc[ (chem_cond) ,:]\n",
    "\n",
    "    # convert Result measure value\n",
    "    if chem_of_int == 'Arsenic':\n",
    "        # convert units to proper mg/L      \n",
    "        chem_aqui_ann_subset['ConvertedResultMeasureValue'] = \\\n",
    "                chem_aqui_ann_subset['ResultMeasureValue']/1e3\n",
    "        chem_aqui_ann_subset['NormalizedResultMeasureValue'] = \\\n",
    "                chem_aqui_ann_subset['ConvertedResultMeasureValue']/MCL_value\n",
    "        \n",
    "    elif chem_of_int == 'Nitrate':\n",
    "        # remove other calculations of Nitrate\n",
    "        # remove those row that do NOT have 'mg/l as N' as their units\n",
    "        units_cond = chem_aqui_ann_subset['ResultMeasure/MeasureUnitCode'] != 'mg/l as N'\n",
    "        chem_aqui_ann_subset = chem_aqui_ann_subset.loc[ units_cond, :]\n",
    "        \n",
    "        # Normalize the results to the MCL value\n",
    "        chem_aqui_ann_subset['ConvertedResultMeasureValue'] = \\\n",
    "                chem_aqui_ann_subset['ResultMeasureValue']\n",
    "        chem_aqui_ann_subset['NormalizedResultMeasureValue'] = \\\n",
    "                chem_aqui_ann_subset['ConvertedResultMeasureValue']/MCL_value\n",
    "        \n",
    "    # remove the 'nan' values in the final subsets\n",
    "    final_subset = chem_aqui_ann_subset.loc[ ~pd.isnull(chem_aqui_ann_subset['NormalizedResultMeasureValue']), : ]\n",
    "    \n",
    "    # return the \"final subset\" of the data\n",
    "    return final_subset\n",
    "        \n",
    "    \n",
    "# =================== subsetting ^^^"
   ]
  },
  {
   "cell_type": "markdown",
   "metadata": {},
   "source": [
    "The process and functions defined below eventually construct the figures.\n",
    "\n",
    "The CA shapefile/outline used in each figure was obtained from the [California Open Data Portal](https://data.ca.gov/dataset/ca-geographic-boundaries/resource/e0107f72-1088-40a9-9443-6e657cadb805)."
   ]
  },
  {
   "cell_type": "code",
   "execution_count": null,
   "metadata": {},
   "outputs": [],
   "source": [
    "# uploading the CA (California) border shapefile\n",
    "border_dir = os.path.join( os.path.split(data_dir)[0], 'CA_State\\\\' )\n",
    "ca_border  = gpd.read_file( (border_dir+'CA_State_TIGER2016.shp') )"
   ]
  },
  {
   "cell_type": "code",
   "execution_count": null,
   "metadata": {},
   "outputs": [],
   "source": [
    "# =================== plotting vvvv\n",
    "years_to_plot = ['2010',\n",
    "                 '2011',\n",
    "                 '2012',\n",
    "                 '2013',\n",
    "                 '2014',\n",
    "                 '2015',\n",
    "                 '2016',\n",
    "                 '2017',\n",
    "                 '2018']"
   ]
  },
  {
   "cell_type": "markdown",
   "metadata": {},
   "source": [
    "Defining the function that plots each individual subplot."
   ]
  },
  {
   "cell_type": "code",
   "execution_count": null,
   "metadata": {},
   "outputs": [],
   "source": [
    "def plot_gw_data(data,\n",
    "                 current_axis,\n",
    "#                  rowid=0,\n",
    "#                  colid=0,\n",
    "                 chem_of_int='Arsenic',\n",
    "                 year_of_int='2015'):\n",
    "    \n",
    "#     # setting up the subplot\n",
    "#     current_axis = ax[rowid, colid]\n",
    "#     current_axis = plt.axes(projection=ccrs.PlateCarree())\n",
    "\n",
    "    # Setting the bounds/extent of the subplot\n",
    "    current_axis.set_extent( [ca_max_lon,\n",
    "                              ca_min_lon,\n",
    "                              ca_min_lat,\n",
    "                              ca_max_lat+0.25] )\n",
    "\n",
    "    # add base layer image\n",
    "    current_axis.add_image( Stamen('terrain-background'), 8 )\n",
    "\n",
    "    # adding the CA shapefile\n",
    "    current_axis.add_geometries(ca_border.geometry, \n",
    "                                crs=ccrs.Mercator(), \n",
    "                                edgecolor='black',\n",
    "                                facecolor='none',\n",
    "                                linewidth=1)\n",
    "\n",
    "    # set the subplot title as the year\n",
    "    current_axis.set_title( str(year_of_int), fontsize=16 )\n",
    "    \n",
    "    # label the y axis\n",
    "    current_axis.text(-0.07, 0.55,\n",
    "                      ('{}:' +'\\n'+'[normalized to MCL]').format(chem_of_int),\n",
    "                      va='bottom', ha='center',\n",
    "                      rotation='vertical',rotation_mode='anchor',\n",
    "                      transform=current_axis.transAxes,\n",
    "                      fontsize=12)\n",
    "\n",
    "    # selecting color map based on chemical of interest\n",
    "    if chem_of_int == 'Arsenic':\n",
    "        map_colors = 'Reds'\n",
    "    else:\n",
    "        map_colors = 'Blues'\n",
    "        \n",
    "    # add water quality data points\n",
    "    current_axis.scatter(data['LongitudeMeasure'],\n",
    "                         data['LatitudeMeasure'],\n",
    "                         c=data['NormalizedResultMeasureValue'],\n",
    "                         transform=ccrs.Geodetic(),\n",
    "                         cmap=map_colors,\n",
    "                         edgecolor='black',\n",
    "                         vmin=0.0, vmax=1.0\n",
    "                         )\n",
    "    \n",
    "    # convert the plot to a scalar mappable object to obtain a colorbar    \n",
    "    sm = plt.cm.ScalarMappable(cmap=map_colors)\n",
    "    sm._A = []\n",
    "    sm.set_clim(vmin=0.0, vmax=1.0)\n",
    "    cb = plt.colorbar(sm, fraction=0.043, pad=0.025, ax=current_axis)\n",
    "    "
   ]
  },
  {
   "cell_type": "markdown",
   "metadata": {},
   "source": [
    "The following `for loop` automates the subsetting of the data and the plotting of each subset of data into a unique subplot."
   ]
  },
  {
   "cell_type": "code",
   "execution_count": null,
   "metadata": {},
   "outputs": [
    {
     "name": "stderr",
     "output_type": "stream",
     "text": [
      "C:\\Users\\allan\\Anaconda3\\lib\\site-packages\\ipykernel_launcher.py:24: SettingWithCopyWarning: \n",
      "A value is trying to be set on a copy of a slice from a DataFrame.\n",
      "Try using .loc[row_indexer,col_indexer] = value instead\n",
      "\n",
      "See the caveats in the documentation: http://pandas.pydata.org/pandas-docs/stable/indexing.html#indexing-view-versus-copy\n",
      "C:\\Users\\allan\\Anaconda3\\lib\\site-packages\\ipykernel_launcher.py:26: SettingWithCopyWarning: \n",
      "A value is trying to be set on a copy of a slice from a DataFrame.\n",
      "Try using .loc[row_indexer,col_indexer] = value instead\n",
      "\n",
      "See the caveats in the documentation: http://pandas.pydata.org/pandas-docs/stable/indexing.html#indexing-view-versus-copy\n"
     ]
    }
   ],
   "source": [
    "# =================== Example\n",
    "# fig, axs = plt.subplots(2,5, figsize=(15, 6), facecolor='w', edgecolor='k')\n",
    "# fig.subplots_adjust(hspace = .5, wspace=.001)\n",
    "\n",
    "# axs = axs.ravel()\n",
    "\n",
    "# for i in range(10):\n",
    "\n",
    "#     axs[i].contourf(np.random.rand(10,10),5,cmap=plt.cm.Oranges)\n",
    "#     axs[i].set_title(str(250+i))\n",
    "\n",
    "# =================== My stuff\n",
    "# import geoplot\n",
    "import geoplot as gplt\n",
    "import geoplot.crs as gcrs\n",
    "from cartopy.io.img_tiles import Stamen\n",
    "import cartopy.crs as ccrs\n",
    "\n",
    "# initializing the plot with subplots \n",
    "fig = plt.figure( figsize=(45, 10) )\n",
    "fig.subplots_adjust( wspace=0.35, hspace=0.15)\n",
    "\n",
    "#========= looping through the specified years\n",
    "\n",
    "for iii in range( len(years_to_plot) ):\n",
    "    # *** Plotting for Arsenic\n",
    "    # plotting the As data on the top row\n",
    "    subset_of_data = subset_data(mwgd, year_of_int=int(years_to_plot[iii]), chem_of_int='Arsenic' )\n",
    "\n",
    "    # calling the function to plot - Arsenic\n",
    "    test_ax = fig.add_subplot(2, 9, iii+1, projection=ccrs.PlateCarree()) \n",
    "    plot_gw_data(subset_of_data, test_ax, chem_of_int='Arsenic', year_of_int=int(years_to_plot[iii]))\n",
    "\n",
    "    # *** Plotting for Nitrate\n",
    "    # plotting the NO3 data on the bottom row\n",
    "    subset_of_data = subset_data(mwgd, year_of_int=int(years_to_plot[iii]), chem_of_int='Nitrate' )\n",
    "\n",
    "    # calling the function to plot - Nitrate (rowid=1)\n",
    "    test_ax = fig.add_subplot(2, 9, iii+10, projection=ccrs.PlateCarree()) \n",
    "    plot_gw_data(subset_of_data, test_ax, chem_of_int='Nitrate', year_of_int=int(years_to_plot[iii]))\n",
    "\n",
    "# saving the figure to the data directory\n",
    "plt.savefig( os.path.join(data_dir, 'Plots\\CA_TemporalDroughtPlot_CentralValleyAq_As_NO3.png'), \n",
    "             bbox_inches='tight')\n"
   ]
  }
 ],
 "metadata": {
  "kernelspec": {
   "display_name": "Python 3",
   "language": "python",
   "name": "python3"
  },
  "language_info": {
   "codemirror_mode": {
    "name": "ipython",
    "version": 3
   },
   "file_extension": ".py",
   "mimetype": "text/x-python",
   "name": "python",
   "nbconvert_exporter": "python",
   "pygments_lexer": "ipython3",
   "version": "3.7.1"
  }
 },
 "nbformat": 4,
 "nbformat_minor": 2
}
