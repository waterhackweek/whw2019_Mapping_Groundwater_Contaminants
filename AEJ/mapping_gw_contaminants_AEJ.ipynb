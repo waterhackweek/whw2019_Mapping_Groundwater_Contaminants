{
 "cells": [
  {
   "cell_type": "markdown",
   "metadata": {},
   "source": [
    "\n",
    "# Mapping Groundwater Contaminants of California\n",
    "\n",
    "Potential goals of this notebook:\n",
    "1. Clean the dataset into a workable dataframe\n",
    "2. Spatially plot the data using geopandas, or cartopy\n",
    "3. ...\n",
    "\n",
    "## 1. Reorganizing the data\n",
    "\n",
    "This first section will deal with cleaning and reorganizing the data. \n",
    "\n",
    "(The `%matplotlib inline` syntax prints out the figures that are created after each specific call.)"
   ]
  },
  {
   "cell_type": "code",
   "execution_count": 3,
   "metadata": {},
   "outputs": [],
   "source": [
    "%matplotlib inline\n",
    "from matplotlib import pyplot as plt\n",
    "\n",
    "## Imports\n",
    "import pandas as pd\n",
    "import numpy as np\n",
    "import os\n",
    "pd.set_option('display.max_columns', 500)\n",
    "\n",
    "## Set the data's directory path\n",
    "script_dir = os.path.abspath('')\n",
    "data_dir   = os.path.join( os.path.split(os.path.split(script_dir)[0])[0], # shared path\n",
    "                           'whw2019_India GW Code & Data\\\\whw2019_NWQData' )"
   ]
  },
  {
   "cell_type": "markdown",
   "metadata": {},
   "source": [
    "The data we are using for this analysis are from a collaboration between the United States Geological Survey ([USGS](https://www.usgs.gov/)), the Environmental Protection Agency([EPA](https://www.epa.gov/)), United States Department of Agriculture Agricultural Reaseach Service ([USDA ARS](https://www.ars.usda.gov/)), and the National Water Quality Monitoring Council ([NWQMC](https://acwi.gov/monitoring/)). The groundwater quality data was aggragated and downloaded from the [Water Quality Portal](https://www.waterqualitydata.us/coverage/). \n",
    "\n",
    "The reported data sources are:\n",
    "* National Water Information System ([NWIS](https://waterdata.usgs.gov/nwis)) - USGS\n",
    "* STOrage and RETrieval ([STORET](https://www.epa.gov/waterdata/water-quality-data-wqx)) Data Warehouse - EPA\n",
    "* Sustaining The Earth's Watersheds - Agricultural Research Database System ([STEWARDS]())\n",
    "\n",
    "For now the state/region of interest is California (CA). However, we hope to be able to apply similar analyses to other states around the US, or to other countries (e.g., India) should adequate spatial (X,Y,Z) and temporal data resolution be available.\n",
    "\n",
    "To read in the datafiles, we must make the proper call toward their storage location (on Hydroshare). The following `pd.read_csv` commands may present with some warnings after running. In this instance, the warnings are fine to ignore (however, always be mindful of the coding issues). \n"
   ]
  },
  {
   "cell_type": "code",
   "execution_count": 4,
   "metadata": {},
   "outputs": [
    {
     "name": "stderr",
     "output_type": "stream",
     "text": [
      "C:\\Users\\allan\\Anaconda3\\lib\\site-packages\\IPython\\core\\interactiveshell.py:3020: DtypeWarning: Columns (9,10,11,12,13,14,16,18,19,23,33,37,39,42,47,57,59,61) have mixed types. Specify dtype option on import or set low_memory=False.\n",
      "  interactivity=interactivity, compiler=compiler, result=result)\n",
      "C:\\Users\\allan\\Anaconda3\\lib\\site-packages\\IPython\\core\\interactiveshell.py:3020: DtypeWarning: Columns (5) have mixed types. Specify dtype option on import or set low_memory=False.\n",
      "  interactivity=interactivity, compiler=compiler, result=result)\n"
     ]
    }
   ],
   "source": [
    "# Enter state code in 'state' variable to read in that states data results.\n",
    "state = 'CA'\n",
    "results  = pd.read_csv(r'{}\\\\{}_result.csv'.format(data_dir, state))\n",
    "stations = pd.read_csv(r'{}\\\\{}_station.csv'.format(data_dir, state))"
   ]
  },
  {
   "cell_type": "code",
   "execution_count": 5,
   "metadata": {},
   "outputs": [],
   "source": [
    "results.drop(columns=['OrganizationIdentifier', \n",
    "                      'OrganizationFormalName',\n",
    "                      'ActivityIdentifier', \n",
    "                      'ActivityTypeCode', \n",
    "                      'ActivityMediaName',\n",
    "                      'ActivityMediaSubdivisionName',\n",
    "                      'ResultStatusIdentifier', \n",
    "                      'StatisticalBaseCode', \n",
    "                      'ResultValueTypeName',\n",
    "                      'ResultWeightBasisText', \n",
    "                      'ResultTimeBasisText',\n",
    "                      'ResultTemperatureBasisText',\n",
    "                      'ResultParticleSizeBasisText',\n",
    "                      'PrecisionValue', \n",
    "                      'ResultCommentText',\n",
    "                      'USGSPCode',\n",
    "                      'ResultDepthHeightMeasure/MeasureValue',\n",
    "                      'ResultDepthHeightMeasure/MeasureUnitCode',\n",
    "                      'ResultDepthAltitudeReferencePointText', \n",
    "                      'SubjectTaxonomicName',\n",
    "                      'SampleTissueAnatomyName',\n",
    "                      'ResultAnalyticalMethod/MethodIdentifier',\n",
    "                      'ResultAnalyticalMethod/MethodIdentifierContext',\n",
    "                      'ResultAnalyticalMethod/MethodName', \n",
    "                      'MethodDescriptionText',\n",
    "                      'LaboratoryName',\n",
    "                      'AnalysisStartDate', \n",
    "                      'ResultLaboratoryCommentText',\n",
    "                      'DetectionQuantitationLimitTypeName',\n",
    "                      'DetectionQuantitationLimitMeasure/MeasureValue',\n",
    "                      'DetectionQuantitationLimitMeasure/MeasureUnitCode',\n",
    "                      'PreparationStartDate', \n",
    "                      'ProviderName',\n",
    "                      'ProjectIdentifier',\n",
    "                      'ActivityConductingOrganizationText',\n",
    "                      'ActivityCommentText',\n",
    "                      'MeasureQualifierCode', \n",
    "                      'SampleCollectionMethod/MethodIdentifier',\n",
    "                      'SampleCollectionMethod/MethodIdentifierContext',\n",
    "                      'SampleCollectionMethod/MethodName',\n",
    "                      'SampleCollectionEquipmentName',\n",
    "                      'ResultDetectionConditionText'\n",
    "                     ], inplace=True)\n",
    "\n",
    "# # preview the data\n",
    "# results.head()\n",
    "# stations.head()"
   ]
  },
  {
   "cell_type": "markdown",
   "metadata": {},
   "source": [
    "After uploading/reading the .csv file as a `Pands` dataframe, we dropped unnecessary column values (above). The next step is to merge the two data frames `results` and `stations` by the station identifier to obtain a unified dataframe.\n",
    "\n",
    "We have reset the \"headers\" of the rows to be the 'MonitoringLocationIdentifier' for each station. The new variable `mwd` stands for \"merged well dataframe\"."
   ]
  },
  {
   "cell_type": "code",
   "execution_count": 6,
   "metadata": {},
   "outputs": [],
   "source": [
    "mwd = stations.merge( results, on='MonitoringLocationIdentifier' )\n",
    "mwd = mwd.set_index( 'MonitoringLocationIdentifier' )"
   ]
  },
  {
   "cell_type": "markdown",
   "metadata": {},
   "source": [
    "Now that we have a `Pandas` dataframe, I want to convert the dataframe to a geopandas dataframe.\n",
    "\n",
    "If this is your first time using `GeoPandas`, you may need to install `GeoPandas`. To do so, run the following script above the first lin in the box below:\n",
    "\n",
    "`! pip install geopandas`"
   ]
  },
  {
   "cell_type": "code",
   "execution_count": 10,
   "metadata": {},
   "outputs": [
    {
     "ename": "ModuleNotFoundError",
     "evalue": "No module named 'geopandas'",
     "output_type": "error",
     "traceback": [
      "\u001b[1;31m---------------------------------------------------------------------------\u001b[0m",
      "\u001b[1;31mModuleNotFoundError\u001b[0m                       Traceback (most recent call last)",
      "\u001b[1;32m<ipython-input-10-608bd9556ea4>\u001b[0m in \u001b[0;36m<module>\u001b[1;34m\u001b[0m\n\u001b[0;32m      1\u001b[0m \u001b[1;31m# import geopandas\u001b[0m\u001b[1;33m\u001b[0m\u001b[1;33m\u001b[0m\u001b[1;33m\u001b[0m\u001b[0m\n\u001b[1;32m----> 2\u001b[1;33m \u001b[1;32mimport\u001b[0m \u001b[0mgeopandas\u001b[0m \u001b[1;32mas\u001b[0m \u001b[0mgpd\u001b[0m\u001b[1;33m\u001b[0m\u001b[1;33m\u001b[0m\u001b[0m\n\u001b[0m\u001b[0;32m      3\u001b[0m \u001b[1;32mfrom\u001b[0m \u001b[0mshapely\u001b[0m\u001b[1;33m.\u001b[0m\u001b[0mgeometry\u001b[0m \u001b[1;32mimport\u001b[0m \u001b[0mPoint\u001b[0m\u001b[1;33m\u001b[0m\u001b[1;33m\u001b[0m\u001b[0m\n\u001b[0;32m      4\u001b[0m \u001b[1;33m\u001b[0m\u001b[0m\n\u001b[0;32m      5\u001b[0m \u001b[1;31m# 1. We need to convert the DataFrame's Lat/Long coordinates into the appropriate shapely geometries\u001b[0m\u001b[1;33m\u001b[0m\u001b[1;33m\u001b[0m\u001b[1;33m\u001b[0m\u001b[0m\n",
      "\u001b[1;31mModuleNotFoundError\u001b[0m: No module named 'geopandas'"
     ]
    }
   ],
   "source": [
    "# import geopandas\n",
    "import geopandas as gpd\n",
    "from shapely.geometry import Point\n",
    "\n",
    "# 1. We need to convert the DataFrame's Lat/Long coordinates into the appropriate shapely geometries\n",
    "gpdgeom = [Point(xy) for xy in zip(mwd.LatitudeMeasure, mwd.LongitudeMeasure)]\n",
    "mwd.drop( ['LatitudeMaesure', 'LongitudeMeasure'], axis=1 )\n",
    "\n",
    "# convert the dataframe to a geopandas dataframe\n",
    "crs = {'init': 'epsg:4326'}\n",
    "mwgd = gpd.GeoDataFrame(mwd, crs=crs, geometry=gpdgeom)"
   ]
  },
  {
   "cell_type": "code",
   "execution_count": null,
   "metadata": {},
   "outputs": [],
   "source": []
  },
  {
   "cell_type": "code",
   "execution_count": null,
   "metadata": {},
   "outputs": [],
   "source": []
  },
  {
   "cell_type": "code",
   "execution_count": 13,
   "metadata": {},
   "outputs": [
    {
     "name": "stdout",
     "output_type": "stream",
     "text": [
      "Collecting shapely\n",
      "  Using cached https://files.pythonhosted.org/packages/a2/fb/7a7af9ef7a35d16fa23b127abee272cfc483ca89029b73e92e93cdf36e6b/Shapely-1.6.4.post2.tar.gz\n",
      "    Complete output from command python setup.py egg_info:\n",
      "    Traceback (most recent call last):\n",
      "      File \"<string>\", line 1, in <module>\n",
      "      File \"C:\\Users\\allan\\AppData\\Local\\Temp\\pip-install-etyci4w_\\shapely\\setup.py\", line 80, in <module>\n",
      "        from shapely._buildcfg import geos_version_string, geos_version, \\\n",
      "      File \"C:\\Users\\allan\\AppData\\Local\\Temp\\pip-install-etyci4w_\\shapely\\shapely\\_buildcfg.py\", line 200, in <module>\n",
      "        lgeos = CDLL(\"geos_c.dll\")\n",
      "      File \"C:\\Users\\allan\\Anaconda3\\lib\\ctypes\\__init__.py\", line 356, in __init__\n",
      "        self._handle = _dlopen(self._name, mode)\n",
      "    OSError: [WinError 126] The specified module could not be found\n",
      "    \n",
      "    ----------------------------------------\n"
     ]
    },
    {
     "name": "stderr",
     "output_type": "stream",
     "text": [
      "Command \"python setup.py egg_info\" failed with error code 1 in C:\\Users\\allan\\AppData\\Local\\Temp\\pip-install-etyci4w_\\shapely\\\n"
     ]
    }
   ],
   "source": [
    "! pip install shapely"
   ]
  },
  {
   "cell_type": "code",
   "execution_count": 8,
   "metadata": {},
   "outputs": [
    {
     "data": {
      "text/plain": [
       "32.6946938"
      ]
     },
     "execution_count": 8,
     "metadata": {},
     "output_type": "execute_result"
    }
   ],
   "source": [
    "mwd.LatitudeMeasure[0]\n"
   ]
  }
 ],
 "metadata": {
  "kernelspec": {
   "display_name": "Python 3",
   "language": "python",
   "name": "python3"
  },
  "language_info": {
   "codemirror_mode": {
    "name": "ipython",
    "version": 3
   },
   "file_extension": ".py",
   "mimetype": "text/x-python",
   "name": "python",
   "nbconvert_exporter": "python",
   "pygments_lexer": "ipython3",
   "version": "3.7.1"
  }
 },
 "nbformat": 4,
 "nbformat_minor": 2
}
