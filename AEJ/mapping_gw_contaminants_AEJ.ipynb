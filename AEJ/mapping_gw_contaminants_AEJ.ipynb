{
 "cells": [
  {
   "cell_type": "markdown",
   "metadata": {},
   "source": [
    "# Mapping Groundwater Contaminants of California\n",
    "\n",
    "Potential goals of this notebook:\n",
    "1. Clean the dataset into a workable dataframe\n",
    "2. Spatially plot the data using geopandas, or cartopy\n",
    "3. ...\n",
    "\n",
    "## 1. Reorganizing the data\n",
    "\n",
    "This first section will deal with cleaning and reorganizing the data. The `%matplotlib inline` syntax prints out the figures that are created after each specific call. "
   ]
  },
  {
   "cell_type": "code",
   "execution_count": 27,
   "metadata": {},
   "outputs": [],
   "source": [
    "%matplotlib inline\n",
    "\n",
    "## Imports\n",
    "import pandas as pd\n",
    "import numpy as np\n",
    "import os\n",
    "pd.set_option('display.max_columns', 500)\n",
    "\n",
    "## Set the data's directory path\n",
    "script_dir = os.path.abspath('')\n",
    "data_dir   = os.path.join( os.path.split(os.path.split(script_dir)[0])[0], # shared path\n",
    "                           'whw2019_India GW Code & Data\\\\whw2019_NWQData' )"
   ]
  },
  {
   "cell_type": "markdown",
   "metadata": {},
   "source": [
    "The data we are using for this analysis are from a collaboration between the United States Geological Survey ([USGS](https://www.usgs.gov/)), the Environmental Protection Agency([EPA](https://www.epa.gov/)), United States Department of Agriculture Agricultural Reaseach Service ([USDA ARS](https://www.ars.usda.gov/)), and the National Water Quality Monitoring Council ([NWQMC](https://acwi.gov/monitoring/)). The groundwater quality data was aggragated and downloaded from the [Water Quality Portal](https://www.waterqualitydata.us/coverage/). \n",
    "\n",
    "The reported data sources are:\n",
    "* National Water Information System ([NWIS](https://waterdata.usgs.gov/nwis)) - USGS\n",
    "* STOrage and RETrieval ([STORET](https://www.epa.gov/waterdata/water-quality-data-wqx)) Data Warehouse - EPA\n",
    "* Sustaining The Earth's Watersheds - Agricultural Research Database System ([STEWARDS]())\n",
    "\n",
    "For now the state/region of interest is California (CA). However, we hope to be able to apply similar analyses to other states around the US, or to other countries (e.g., India) should adequate spatial (X,Y,Z) and temporal data resolution be available.\n",
    "\n",
    "To read in the datafiles, we must make the proper call toward their storage location (on Hydroshare). The following `pd.read_csv` commands may present with some warnings after running. In this instance, the warnings are fine to ignore (however, always be mindful of the coding issues). \n"
   ]
  },
  {
   "cell_type": "code",
   "execution_count": 30,
   "metadata": {},
   "outputs": [
    {
     "name": "stderr",
     "output_type": "stream",
     "text": [
      "C:\\Users\\allan\\Anaconda3\\lib\\site-packages\\IPython\\core\\interactiveshell.py:3020: DtypeWarning: Columns (9,10,11,12,13,14,16,18,19,23,33,37,39,42,47,57,59,61) have mixed types. Specify dtype option on import or set low_memory=False.\n",
      "  interactivity=interactivity, compiler=compiler, result=result)\n",
      "C:\\Users\\allan\\Anaconda3\\lib\\site-packages\\IPython\\core\\interactiveshell.py:3020: DtypeWarning: Columns (5) have mixed types. Specify dtype option on import or set low_memory=False.\n",
      "  interactivity=interactivity, compiler=compiler, result=result)\n"
     ]
    }
   ],
   "source": [
    "# Enter state code in 'state' variable to read in that states data results.\n",
    "state = 'CA'\n",
    "results = pd.read_csv(r'{}\\\\{}_result.csv'.format(data_dir, state))\n",
    "stations = pd.read_csv(r'{}\\\\{}_station.csv'.format(data_dir, state))"
   ]
  },
  {
   "cell_type": "code",
   "execution_count": 31,
   "metadata": {},
   "outputs": [],
   "source": [
    "results.drop(columns=['OrganizationIdentifier', \n",
    "                      'OrganizationFormalName',\n",
    "                      'ActivityIdentifier', \n",
    "                      'ActivityTypeCode', \n",
    "                      'ActivityMediaName',\n",
    "                      'ActivityMediaSubdivisionName',\n",
    "                      'ResultStatusIdentifier', \n",
    "                      'StatisticalBaseCode', \n",
    "                      'ResultValueTypeName',\n",
    "                      'ResultWeightBasisText', \n",
    "                      'ResultTimeBasisText',\n",
    "                      'ResultTemperatureBasisText',\n",
    "                      'ResultParticleSizeBasisText',\n",
    "                      'PrecisionValue', \n",
    "                      'ResultCommentText',\n",
    "                      'USGSPCode',\n",
    "                      'ResultDepthHeightMeasure/MeasureValue',\n",
    "                      'ResultDepthHeightMeasure/MeasureUnitCode',\n",
    "                      'ResultDepthAltitudeReferencePointText', \n",
    "                      'SubjectTaxonomicName',\n",
    "                      'SampleTissueAnatomyName',\n",
    "                      'ResultAnalyticalMethod/MethodIdentifier',\n",
    "                      'ResultAnalyticalMethod/MethodIdentifierContext',\n",
    "                      'ResultAnalyticalMethod/MethodName', \n",
    "                      'MethodDescriptionText',\n",
    "                      'LaboratoryName',\n",
    "                      'AnalysisStartDate', \n",
    "                      'ResultLaboratoryCommentText',\n",
    "                      'DetectionQuantitationLimitTypeName',\n",
    "                      'DetectionQuantitationLimitMeasure/MeasureValue',\n",
    "                      'DetectionQuantitationLimitMeasure/MeasureUnitCode',\n",
    "                      'PreparationStartDate', \n",
    "                      'ProviderName',\n",
    "                      'ProjectIdentifier',\n",
    "                      'ActivityConductingOrganizationText',\n",
    "                      'ActivityCommentText',\n",
    "                      'MeasureQualifierCode', \n",
    "                      'SampleCollectionMethod/MethodIdentifier',\n",
    "                      'SampleCollectionMethod/MethodIdentifierContext',\n",
    "                      'SampleCollectionMethod/MethodName',\n",
    "                      'SampleCollectionEquipmentName',\n",
    "                      'ResultDetectionConditionText'\n",
    "                     ], inplace=True)"
   ]
  }
 ],
 "metadata": {
  "kernelspec": {
   "display_name": "Python 3",
   "language": "python",
   "name": "python3"
  },
  "language_info": {
   "codemirror_mode": {
    "name": "ipython",
    "version": 3
   },
   "file_extension": ".py",
   "mimetype": "text/x-python",
   "name": "python",
   "nbconvert_exporter": "python",
   "pygments_lexer": "ipython3",
   "version": "3.7.1"
  }
 },
 "nbformat": 4,
 "nbformat_minor": 2
}
