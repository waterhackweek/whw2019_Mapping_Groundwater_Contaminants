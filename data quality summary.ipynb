{
 "cells": [
  {
   "cell_type": "code",
   "execution_count": null,
   "metadata": {},
   "outputs": [],
   "source": [
    "import pandas as pd\n",
    "import numpy as py\n",
    "import plotly.plotly as py\n",
    "import plotly.graph_objs as go\n",
    "from matplotlib import pyplot as plt\n",
    "import numpy as np\n",
    "import datetime\n",
    "import statsmodels\n",
    "import sklearn\n",
    "%matplotlib inline\n"
   ]
  },
  {
   "cell_type": "code",
   "execution_count": null,
   "metadata": {},
   "outputs": [],
   "source": [
    "#def num(s):\n",
    " #   try:\n",
    " #       return float(s)\n",
    " #   except ValueError:\n",
    " #       return 'error'\n",
    "    "
   ]
  },
  {
   "cell_type": "code",
   "execution_count": null,
   "metadata": {},
   "outputs": [],
   "source": [
    "df = pd.read_csv('./data_whw/CA_cleaned.csv', na_values=['None'])\n",
    "#plt.scatter(x=arsenic.ActivityStartDate,\n",
    " #   y=arsenic.ResultMeasureValue)\n",
    "#plt.show()"
   ]
  },
  {
   "cell_type": "code",
   "execution_count": null,
   "metadata": {},
   "outputs": [],
   "source": [
    "len(df['WellDepthMeasure/MeasureValue'].dropna())\n",
    "len(df['WellDepthMeasure/MeasureValue'])\n",
    "list(df)\n",
    "df.CharacteristicName.unique()\n",
    "df = df.loc[df.CharacteristicName.isin (['Iron', 'Magnesium', 'Manganese',\n",
    "       'Sodium', 'Calcium', 'Uranium', 'Fluoride', 'Chromium', 'Arsenic',\n",
    "       'Selenium', 'Nitrate', 'Lead'])]"
   ]
  },
  {
   "cell_type": "code",
   "execution_count": null,
   "metadata": {},
   "outputs": [],
   "source": [
    "df['value'] = pd.to_numeric(df.ResultMeasureValue, errors = 'coerce')\n",
    "df['ActivityStartDate'] = pd.to_datetime(df['ActivityStartDate'],infer_datetime_format=True)   \n",
    "df['year'] = df['ActivityStartDate'].dt.year"
   ]
  },
  {
   "cell_type": "code",
   "execution_count": null,
   "metadata": {},
   "outputs": [],
   "source": [
    "## work with multiple index \n",
    "#df.set_index(['MonitoringLocationIdentifier', 'CharacteristicName'], inplace=True)\n",
    "#idx = pd.IndexSlice\n",
    "#df.loc[idx[:, ['Arsenic', 'Fluoride']], :]\n",
    "\n",
    "#get unique contaminent list \n",
    "#df.index.unique(level=1)\n",
    "\n",
    "#idx = pd.IndexSlice #multi-index slice \n",
    "#arfl = df.loc[pd.IndexSlice[:, ['Fluoride', 'Arsenic']] , :]"
   ]
  },
  {
   "cell_type": "code",
   "execution_count": null,
   "metadata": {},
   "outputs": [],
   "source": [
    "max(df.groupby(['MonitoringLocationIdentifier','CharacteristicName']).size())"
   ]
  },
  {
   "cell_type": "markdown",
   "metadata": {},
   "source": [
    "Number of Wells that have any measurement"
   ]
  },
  {
   "cell_type": "code",
   "execution_count": null,
   "metadata": {},
   "outputs": [],
   "source": [
    "countdt = df.groupby(['MonitoringLocationIdentifier','CharacteristicName']).size().reset_index()\n",
    "#df.groupbu['MonitoringLocationIdentifier']\n",
    "\n",
    "countdt.head()\n",
    "measuredbyCont = countdt.groupby('CharacteristicName').size().sort_values(ascending=False).reset_index()\n",
    "measuredbyCont"
   ]
  },
  {
   "cell_type": "code",
   "execution_count": null,
   "metadata": {},
   "outputs": [],
   "source": [
    "countdt = df.groupby(['MonitoringLocationIdentifier','CharacteristicName']).size().reset_index()\n",
    "#df.groupbu['MonitoringLocationIdentifier']\n",
    "\n",
    "countdt"
   ]
  },
  {
   "cell_type": "code",
   "execution_count": null,
   "metadata": {
    "scrolled": true
   },
   "outputs": [],
   "source": [
    "# Number of wells that have more than 5-years of measurements\n",
    "\n",
    "len(countdt)\n",
    "abc = countdt.loc[countdt.iloc[:,-1] >= 5]\n",
    "abc\n",
    "abc.groupby('CharacteristicName').size().sort_values(ascending=False).reset_index()"
   ]
  },
  {
   "cell_type": "code",
   "execution_count": null,
   "metadata": {},
   "outputs": [],
   "source": [
    "## plot number of wells that have measurements for each contiminant \n",
    "plt.figure(figsize=(15,5))\n",
    "plt.barh( measuredbyCont.iloc[:,0], measuredbyCont.iloc[:,-1]  )\n",
    "\n",
    "# plt.bar(measuredbyCont.iloc[:,0], measuredbyCont.iloc[:,-1])\n",
    "\n",
    "plt.show()"
   ]
  },
  {
   "cell_type": "code",
   "execution_count": null,
   "metadata": {},
   "outputs": [],
   "source": [
    "# Number of wells that have depth info and # by contaminant \n",
    "depthinfo = df[df['ActivityDepthHeightMeasure/MeasureValue'].notnull()]\n",
    "\n",
    "depthinfodt = depthinfo.groupby(['MonitoringLocationIdentifier','CharacteristicName']).size().reset_index()\n",
    "#df.groupbu['MonitoringLocationIdentifier']\n",
    "\n",
    "depthinfodt.head()\n",
    "\n",
    "\n",
    "depthbycont = depthinfodt.groupby(['CharacteristicName']).size().sort_values(ascending=False).reset_index()\n",
    "\n",
    "depthbycont.head()"
   ]
  },
  {
   "cell_type": "code",
   "execution_count": null,
   "metadata": {},
   "outputs": [],
   "source": [
    "countdt = df.groupby(['MonitoringLocationIdentifier','CharacteristicName']).size().reset_index()\n",
    "#df.groupbu['MonitoringLocationIdentifier']\n",
    "\n",
    "countdt.CharacteristicName.unique()\n",
    "countdt.head()"
   ]
  },
  {
   "cell_type": "code",
   "execution_count": null,
   "metadata": {},
   "outputs": [],
   "source": [
    "## number of wells that have depth info and have measurements for each contiminant \n",
    "plt.figure(figsize=(15,5))\n",
    "plt.barh( depthbycont.iloc[:,0], depthbycont.iloc[:,-1]  )\n",
    "\n",
    "# plt.bar(measuredbyCont.iloc[:,0], measuredbyCont.iloc[:,-1])\n",
    "\n",
    "plt.show()"
   ]
  }
 ],
 "metadata": {
  "kernelspec": {
   "display_name": "Python 3",
   "language": "python",
   "name": "python3"
  },
  "language_info": {
   "codemirror_mode": {
    "name": "ipython",
    "version": 3
   },
   "file_extension": ".py",
   "mimetype": "text/x-python",
   "name": "python",
   "nbconvert_exporter": "python",
   "pygments_lexer": "ipython3",
   "version": "3.6.7"
  }
 },
 "nbformat": 4,
 "nbformat_minor": 2
}
